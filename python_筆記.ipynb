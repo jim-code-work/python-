{
  "nbformat": 4,
  "nbformat_minor": 0,
  "metadata": {
    "colab": {
      "provenance": [],
      "authorship_tag": "ABX9TyMpJqFzvKltmcSC1wDFkWjF",
      "include_colab_link": true
    },
    "kernelspec": {
      "name": "python3",
      "display_name": "Python 3"
    },
    "language_info": {
      "name": "python"
    }
  },
  "cells": [
    {
      "cell_type": "markdown",
      "metadata": {
        "id": "view-in-github",
        "colab_type": "text"
      },
      "source": [
        "<a href=\"https://colab.research.google.com/github/jim-code-work/self-learing/blob/main/python_%E7%AD%86%E8%A8%98.ipynb\" target=\"_parent\"><img src=\"https://colab.research.google.com/assets/colab-badge.svg\" alt=\"Open In Colab\"/></a>"
      ]
    },
    {
      "cell_type": "code",
      "execution_count": null,
      "metadata": {
        "id": "3E4SICWTd3dZ",
        "colab": {
          "base_uri": "https://localhost:8080/"
        },
        "outputId": "cf63303c-4399-406e-ca50-2bd71f8df6d5"
      },
      "outputs": [
        {
          "output_type": "stream",
          "name": "stdout",
          "text": [
            "hello\n",
            "hellokenji\n",
            "hello \"kenji\n",
            "hellokenji\n",
            "hello\n",
            "kenji\n",
            "True\n"
          ]
        }
      ],
      "source": [
        "  # 變數只能是英文or數字or_的組合且開頭不能是數字\n",
        "name = \"kenji\"\n",
        "age = 16\n",
        "is_smart = True\n",
        "\n",
        "print(\"hello\")\n",
        "print(\"hello\" + \"kenji\")\n",
        "\n",
        "print(\"hello \\\"\" + name) # \\後可加特殊字元\n",
        "print(\"hello\\n\" + name) # \\n 換行\n",
        "print(is_smart)"
      ]
    },
    {
      "cell_type": "markdown",
      "source": [
        "變數型態"
      ],
      "metadata": {
        "id": "mC5qdlwgfixs"
      }
    },
    {
      "cell_type": "code",
      "source": [
        "a = 1\n",
        "def hello():\n",
        "  print(a+9)    # 使用全域變數的 a\n",
        "\n",
        "hello()         # 10\n",
        "print(a)        # 1"
      ],
      "metadata": {
        "id": "RpVSOT4LZKiO"
      },
      "execution_count": null,
      "outputs": []
    },
    {
      "cell_type": "markdown",
      "source": [
        "全域變數 區域變數"
      ],
      "metadata": {
        "id": "j3JoZE6EZMgh"
      }
    },
    {
      "cell_type": "code",
      "source": [
        "ph = \"HELLO kenji\"\n",
        "\n",
        "#.lower() 把字串變小寫\n",
        "print(ph.lower())\n",
        "\n",
        "#.upper()把字串變大寫\n",
        "print(ph.upper())\n",
        "\n",
        "#.isupper() 判斷大寫\n",
        "print(ph.isupper())\n",
        "\n",
        "#.islowper() 判斷小寫\n",
        "print(ph.islower())\n",
        "\n",
        "#疊加\n",
        "print(ph.lower().islower())\n",
        "\n",
        "#中括號\n",
        "print(ph[0]+ph[1])\n",
        "\n",
        "#.index()\n",
        "print(ph.index(\"L\"))\n",
        "#replace\n",
        "print(ph.replace(\"H\",\"h\"))\n",
        "\n",
        "\n",
        "\n"
      ],
      "metadata": {
        "id": "vuRdHgiUfqYL"
      },
      "execution_count": null,
      "outputs": []
    },
    {
      "cell_type": "markdown",
      "source": [
        "字串與字串函式"
      ],
      "metadata": {
        "id": "SrUKSl_sibA1"
      }
    },
    {
      "cell_type": "code",
      "source": [
        "grade = [60,20,80,90]\n",
        "print(grade[0])\n",
        "print(grade[1:3])      #[1:3] 不包括3, 0~2\n"
      ],
      "metadata": {
        "id": "kuKquLq3WP5m"
      },
      "execution_count": null,
      "outputs": []
    },
    {
      "cell_type": "code",
      "source": [
        "# list[] 運算 (可變動)\n",
        "data = [1,2,3],[4,5,6] #二維陣列\n",
        "print(data)\n",
        "print(data[0][1])\n",
        "print(data[1][0])\n",
        "\n",
        "data[0][0]=5\n",
        "print(data[0][0])\n",
        "\n",
        "data[0][0:2]=[6,5]\n",
        "print(data[0:2])"
      ],
      "metadata": {
        "id": "lZnMTzT2o8UF",
        "colab": {
          "base_uri": "https://localhost:8080/"
        },
        "outputId": "3e186c40-575d-4862-dee8-1fd8f3a5e03b"
      },
      "execution_count": null,
      "outputs": [
        {
          "output_type": "stream",
          "name": "stdout",
          "text": [
            "([1, 2, 3], [4, 5, 6])\n",
            "2\n",
            "4\n",
            "5\n",
            "([6, 5, 3], [4, 5, 6])\n"
          ]
        }
      ]
    },
    {
      "cell_type": "markdown",
      "source": [
        "List 可變動列表"
      ],
      "metadata": {
        "id": "DE3TW074p991"
      }
    },
    {
      "cell_type": "code",
      "source": [
        "\n",
        "data = (1,2,3)\n",
        "data[0]=5      #tuple() 不能變換資料\n",
        "print(data[0])"
      ],
      "metadata": {
        "id": "1O2iKYYeqCOg"
      },
      "execution_count": null,
      "outputs": []
    },
    {
      "cell_type": "markdown",
      "source": [
        "Tuple 不可變動列表"
      ],
      "metadata": {
        "id": "LhP9or8cqFEX"
      }
    },
    {
      "cell_type": "code",
      "source": [
        "# 集合{}的運算\n",
        "\n",
        "s1 = {1,2,3,4,5}\n",
        "s2 = {4,5,6,7,8}\n",
        "print(3 in s1)\n",
        "print(5 in s1)\n",
        "\n",
        "s3 = s1&s2 # 交集\n",
        "print(s3)\n",
        "\n",
        "s4 = s1|s2 # 聯集\n",
        "print(s4)\n",
        "\n",
        "s5 = s1-s2 # 差集\n",
        "print(s5)\n",
        "\n",
        "s6 = s1^s2 # 反交集\n",
        "print(s5)\n",
        "\n",
        "s7 = set(\"Hello\") #set(字串)\n",
        "print(\"A\" in s7)\n",
        "print(\"H\" in s7)"
      ],
      "metadata": {
        "colab": {
          "base_uri": "https://localhost:8080/"
        },
        "id": "asraOV7AsUBq",
        "outputId": "05ecd276-3797-47bb-c4aa-f7b91eae1c7e"
      },
      "execution_count": null,
      "outputs": [
        {
          "output_type": "stream",
          "name": "stdout",
          "text": [
            "True\n",
            "True\n",
            "{4, 5}\n",
            "{1, 2, 3, 4, 5, 6, 7, 8}\n",
            "{1, 2, 3}\n",
            "{1, 2, 3}\n",
            "False\n",
            "True\n"
          ]
        }
      ]
    },
    {
      "cell_type": "markdown",
      "source": [
        "集合"
      ],
      "metadata": {
        "id": "6cX3s7XKsXlS"
      }
    },
    {
      "cell_type": "code",
      "source": [
        "dic = {\"apple\":\"蘋果\",\"bug\":\"蟲\"}  #字典運算 key-value 配對\n",
        "print(dic[\"apple\"])\n",
        "\n",
        "print(\"apple\" in dic)\n",
        "print(\"banana\" not in dic)  # 判斷key是否存在\n",
        "\n",
        "print(dic)\n",
        "del dic[\"apple\"] # 刪除字典中鍵值對\n",
        "print(dic)\n",
        "\n",
        "dic2 = {x:x*2 for x in [1,2,3]} #從列表的資料產生字典\n",
        "print(dic2)\n"
      ],
      "metadata": {
        "id": "oTLc8NVNc06s",
        "outputId": "a18b15f6-f83b-466c-85e5-7508c72575d6",
        "colab": {
          "base_uri": "https://localhost:8080/"
        }
      },
      "execution_count": 1,
      "outputs": [
        {
          "output_type": "stream",
          "name": "stdout",
          "text": [
            "蘋果\n",
            "True\n",
            "True\n",
            "{'apple': '蘋果', 'bug': '蟲'}\n",
            "{'bug': '蟲'}\n",
            "{1: 2, 2: 4, 3: 6}\n"
          ]
        }
      ]
    },
    {
      "cell_type": "markdown",
      "source": [
        "字典"
      ],
      "metadata": {
        "id": "qZMtjOoGc1f-"
      }
    },
    {
      "cell_type": "code",
      "source": [
        "# 判斷式\n",
        "\n",
        "x=input() # x = 輸入的數字(字串型態)\n",
        "x=int(x) # 將字串轉換成數字型態\n",
        "\n",
        "if x>200:      # if 條件:\n",
        "  print(\"true\")\n",
        "elif x>100:\n",
        "  print(True)\n",
        "else:\n",
        "  print(\"false\")\n"
      ],
      "metadata": {
        "id": "JonNH3wwtanm",
        "outputId": "a57bcbbd-23b0-4bce-85e0-93bdaced36ae",
        "colab": {
          "base_uri": "https://localhost:8080/"
        }
      },
      "execution_count": 2,
      "outputs": [
        {
          "output_type": "stream",
          "name": "stdout",
          "text": [
            "34\n",
            "false\n"
          ]
        }
      ]
    },
    {
      "cell_type": "code",
      "source": [],
      "metadata": {
        "id": "D4GGwQ9fAHTc"
      },
      "execution_count": null,
      "outputs": []
    },
    {
      "cell_type": "markdown",
      "source": [
        "if else input字串"
      ],
      "metadata": {
        "id": "PZmmCsVsta_0"
      }
    },
    {
      "cell_type": "code",
      "source": [],
      "metadata": {
        "id": "F-U2Z3f4A5nx"
      },
      "execution_count": null,
      "outputs": []
    },
    {
      "cell_type": "code",
      "source": [
        "n=1\n",
        "while n<=5:   # while 條件:\n",
        "  print(n)\n",
        "  n+=1\n",
        "# 例1\n",
        "for x in [2,3,4]: # for 變數(名稱) in 列表或字串:\n",
        "  print(x)\n",
        "# 例2\n",
        "for x in \"Hello\":\n",
        "  print(x)\n",
        "# 例3\n",
        "for x in range(3,6):  # range(n1,n2) n1 到 n2-1\n",
        "  print(x)\n",
        "else:\n",
        "  print(x)  # else:\n",
        "        # 迴圈結束前，執行此區塊命令"
      ],
      "metadata": {
        "id": "SaoKlUK9ou3Z",
        "colab": {
          "base_uri": "https://localhost:8080/"
        },
        "outputId": "f8196389-ace9-4d1c-b3d5-7b01d0685c92",
        "collapsed": true
      },
      "execution_count": 3,
      "outputs": [
        {
          "output_type": "stream",
          "name": "stdout",
          "text": [
            "1\n",
            "2\n",
            "3\n",
            "4\n",
            "5\n",
            "2\n",
            "3\n",
            "4\n",
            "H\n",
            "e\n",
            "l\n",
            "l\n",
            "o\n",
            "3\n",
            "4\n",
            "5\n",
            "5\n"
          ]
        }
      ]
    },
    {
      "cell_type": "markdown",
      "source": [
        "while , for 迴圈"
      ],
      "metadata": {
        "id": "0fU8_l1vovTp"
      }
    },
    {
      "cell_type": "code",
      "source": [
        "n=0\n",
        "while n<5:\n",
        "  if n == 3:\n",
        "    break\n",
        "  print(n)\n",
        "  n+=1\n",
        "print(\"最後的n:\",n)\n"
      ],
      "metadata": {
        "id": "4S1WzaNrofoh",
        "colab": {
          "base_uri": "https://localhost:8080/"
        },
        "outputId": "fb1ef182-9317-4a7a-cfba-66e4c1a3a9e4"
      },
      "execution_count": null,
      "outputs": [
        {
          "output_type": "stream",
          "name": "stdout",
          "text": [
            "0\n",
            "1\n",
            "2\n",
            "最後的n: 3\n"
          ]
        }
      ]
    },
    {
      "cell_type": "markdown",
      "source": [
        "break 跳出迴圈"
      ],
      "metadata": {
        "id": "OUJVvcu8u7kd"
      }
    },
    {
      "cell_type": "code",
      "source": [
        "n=0\n",
        "for x in [0,1,2,3]:\n",
        "  if x%2 == 0: # 略過條件\n",
        "    continue\n",
        "  print(x)\n",
        "  n+=1\n",
        "print(\"最後的n\",n)\n"
      ],
      "metadata": {
        "colab": {
          "base_uri": "https://localhost:8080/"
        },
        "id": "O_tTQZ42qEpf",
        "outputId": "17f63c7e-3ab5-4c51-f5f0-2c8db2752746"
      },
      "execution_count": null,
      "outputs": [
        {
          "output_type": "stream",
          "name": "stdout",
          "text": [
            "1\n",
            "3\n",
            "最後的n 2\n"
          ]
        }
      ]
    },
    {
      "cell_type": "markdown",
      "source": [
        "continue 略過條件"
      ],
      "metadata": {
        "id": "Mlx6Ay3cqFH4"
      }
    },
    {
      "cell_type": "code",
      "source": [
        "sum = 0\n",
        "for n in range(11): # 0~10\n",
        "  sum+=n\n",
        "else:\n",
        "  print(sum) # 印出 1+2+3+...+10"
      ],
      "metadata": {
        "colab": {
          "base_uri": "https://localhost:8080/"
        },
        "id": "o4fqK9pAyn2s",
        "outputId": "95bd1186-7fff-4571-f3bb-1f00b18e6ff5"
      },
      "execution_count": null,
      "outputs": [
        {
          "output_type": "stream",
          "name": "stdout",
          "text": [
            "55\n"
          ]
        }
      ]
    },
    {
      "cell_type": "code",
      "source": [
        "n = input(\"請輸入一個正整數:\")\n",
        "n = int(n)           # 輸入轉數字型態\n",
        "\n",
        "for i in range(100):\n",
        "  if i*i==n:\n",
        "    print(\"整數平方根\",i)\n",
        "else:\n",
        "  print(\"沒有整數平方根\")"
      ],
      "metadata": {
        "colab": {
          "base_uri": "https://localhost:8080/"
        },
        "id": "5idgQG42z8e6",
        "outputId": "36070f9a-abdb-4f3f-e32d-42616634c131"
      },
      "execution_count": null,
      "outputs": [
        {
          "output_type": "stream",
          "name": "stdout",
          "text": [
            "請輸入一個整數:100\n",
            "整數平方根 10\n",
            "沒有整數平方根\n"
          ]
        }
      ]
    },
    {
      "cell_type": "markdown",
      "source": [
        "綜合範例: 找出整數平方根"
      ],
      "metadata": {
        "id": "LuP5oPeMz9Lx"
      }
    },
    {
      "cell_type": "code",
      "source": [
        "# 例1\n",
        "def sayhello():  # 定義函式\n",
        "  print(\"Hello\") # 函式內容\n",
        "sayhello()     # 呼叫函式 (函式名稱)\n",
        "\n",
        "# 例2\n",
        "def say(msg):    # def 函式名稱(參數名稱):\n",
        "  print(msg)\n",
        "say(\"Hello bro\")\n",
        "\n",
        "# 例3\n",
        "def add(n1,n2):\n",
        " resault = n1+n2\n",
        " print(resault)\n",
        "add(6,7)"
      ],
      "metadata": {
        "id": "TM5ljJ_X24we",
        "colab": {
          "base_uri": "https://localhost:8080/"
        },
        "outputId": "cd95d906-ee0c-4942-cf37-02dbd6136237"
      },
      "execution_count": null,
      "outputs": [
        {
          "output_type": "stream",
          "name": "stdout",
          "text": [
            "Hello\n",
            "Hello bro\n",
            "13\n"
          ]
        }
      ]
    },
    {
      "cell_type": "markdown",
      "source": [
        "函式"
      ],
      "metadata": {
        "id": "fxQ1Bzch3CQ_"
      }
    },
    {
      "cell_type": "code",
      "source": [
        "\n",
        "# def 函式名稱(參數名稱):\n",
        "# 函式程式碼\n",
        "# return 資料 #(結束函式, 回傳資料)\n",
        "\n",
        "# 例1\n",
        "def say(msg):\n",
        "  print(msg)    # msg = 回傳值名稱\n",
        "  return        # 回傳值 = None\n",
        "\n",
        "value = say(\"Hello bro\")  # 呼叫函式,取得回傳值     # say(\"Hello bro\") 會執行,並印出\n",
        "print(value)         # 印出 None          # 但say(\"Hello bro\") 的值 = None\n",
        "                               # 所以 value = None(回傳值)\n",
        "# 例2\n",
        "def add(n1,n2):\n",
        "  result = n1+n2\n",
        "  return \"Hello\" # 函式回傳字串\"Hello\"\n",
        "value = add(3,4)\n",
        "print(value)\n",
        "\n",
        "#例3\n",
        "def add(n1,n2):\n",
        "  result = n1+n2\n",
        "  return result                 # 呼叫函式後會執行函式內容, 但回傳值會是 return 後面的資料\n",
        "value = add(3,4)                 # 若沒有寫 return, 則回傳值 = None\n",
        "print(value)\n",
        "\n",
        "# 練習1\n",
        "def mutiply(m1,m2):\n",
        "  print(m1*m2)\n",
        "  answer = m1*m2                #資料的定義要寫在函式定義區\n",
        "  return answer\n",
        "\n",
        "m1 = int(input())\n",
        "m2 = int(input())\n",
        "answer = mutiply(m1,m2)\n",
        "print(answer)\n",
        "\n",
        "# 練習2\n",
        "def mutiply(m1,m2):\n",
        "  print(m1*m2)\n",
        "  answer = m1*m2\n",
        "  return answer\n",
        "\n",
        "m1 = int(input())\n",
        "m2 = int(input())\n",
        "answer = mutiply(m1,m2)+mutiply(3,2)\n",
        "print(answer)"
      ],
      "metadata": {
        "id": "Mrncejnj5np5"
      },
      "execution_count": null,
      "outputs": []
    },
    {
      "cell_type": "markdown",
      "source": [
        "回傳值"
      ],
      "metadata": {
        "id": "SPnuekxQ5re_"
      }
    },
    {
      "cell_type": "code",
      "source": [
        "# 預設值\n",
        "def power(base,exp = 0):    # exp 預設值 = 0\n",
        "  print(base**exp)\n",
        "\n",
        "power(3,2)\n",
        "power(4)              #沒有給exp值, exp = 預設值 0\n",
        "\n",
        "# 對應名稱\n",
        "def divide(n1,n2):\n",
        "  ans = n1/n2\n",
        "  return ans\n",
        "\n",
        "ans = int(divide(n1=4, n2=2))\n",
        "print(ans)\n",
        "\n",
        "# 無限/不定參數\n",
        "def avg(*ns):\n",
        "  print(ns)\n"
      ],
      "metadata": {
        "id": "-Zja8NjMuXRi",
        "colab": {
          "base_uri": "https://localhost:8080/"
        },
        "outputId": "4c7e7170-78a5-435d-8cef-7cdd4c1bc890"
      },
      "execution_count": null,
      "outputs": [
        {
          "output_type": "stream",
          "name": "stdout",
          "text": [
            "9\n",
            "1\n",
            "2\n"
          ]
        }
      ]
    },
    {
      "cell_type": "markdown",
      "source": [
        "函式 預設值 名稱對應 無限參數"
      ],
      "metadata": {
        "id": "iggvHfqQ9969"
      }
    },
    {
      "cell_type": "code",
      "source": [
        "a,b,c = [int(x) for  x in input().split()]   # 一行輸入多個數字\n",
        "print(a,b,c)"
      ],
      "metadata": {
        "id": "i7SF2OjS1V-j",
        "colab": {
          "base_uri": "https://localhost:8080/",
          "height": 341
        },
        "outputId": "1e29b260-2c1d-48b4-a961-f3025b2f72b1",
        "collapsed": true
      },
      "execution_count": null,
      "outputs": [
        {
          "output_type": "error",
          "ename": "KeyboardInterrupt",
          "evalue": "ignored",
          "traceback": [
            "\u001b[0;31m---------------------------------------------------------------------------\u001b[0m",
            "\u001b[0;31mKeyboardInterrupt\u001b[0m                         Traceback (most recent call last)",
            "\u001b[0;32m<ipython-input-6-12e4032bcb7d>\u001b[0m in \u001b[0;36m<cell line: 1>\u001b[0;34m()\u001b[0m\n\u001b[0;32m----> 1\u001b[0;31m \u001b[0ma\u001b[0m\u001b[0;34m,\u001b[0m\u001b[0mb\u001b[0m\u001b[0;34m,\u001b[0m\u001b[0mc\u001b[0m \u001b[0;34m=\u001b[0m \u001b[0;34m[\u001b[0m\u001b[0mint\u001b[0m\u001b[0;34m(\u001b[0m\u001b[0mx\u001b[0m\u001b[0;34m)\u001b[0m \u001b[0;32mfor\u001b[0m  \u001b[0mx\u001b[0m \u001b[0;32min\u001b[0m \u001b[0minput\u001b[0m\u001b[0;34m(\u001b[0m\u001b[0;34m)\u001b[0m\u001b[0;34m.\u001b[0m\u001b[0msplit\u001b[0m\u001b[0;34m(\u001b[0m\u001b[0;34m)\u001b[0m\u001b[0;34m]\u001b[0m\u001b[0;34m\u001b[0m\u001b[0;34m\u001b[0m\u001b[0m\n\u001b[0m\u001b[1;32m      2\u001b[0m \u001b[0mprint\u001b[0m\u001b[0;34m(\u001b[0m\u001b[0ma\u001b[0m\u001b[0;34m,\u001b[0m\u001b[0mb\u001b[0m\u001b[0;34m,\u001b[0m\u001b[0mc\u001b[0m\u001b[0;34m)\u001b[0m\u001b[0;34m\u001b[0m\u001b[0;34m\u001b[0m\u001b[0m\n",
            "\u001b[0;32m/usr/local/lib/python3.10/dist-packages/ipykernel/kernelbase.py\u001b[0m in \u001b[0;36mraw_input\u001b[0;34m(self, prompt)\u001b[0m\n\u001b[1;32m    849\u001b[0m                 \u001b[0;34m\"raw_input was called, but this frontend does not support input requests.\"\u001b[0m\u001b[0;34m\u001b[0m\u001b[0;34m\u001b[0m\u001b[0m\n\u001b[1;32m    850\u001b[0m             )\n\u001b[0;32m--> 851\u001b[0;31m         return self._input_request(str(prompt),\n\u001b[0m\u001b[1;32m    852\u001b[0m             \u001b[0mself\u001b[0m\u001b[0;34m.\u001b[0m\u001b[0m_parent_ident\u001b[0m\u001b[0;34m,\u001b[0m\u001b[0;34m\u001b[0m\u001b[0;34m\u001b[0m\u001b[0m\n\u001b[1;32m    853\u001b[0m             \u001b[0mself\u001b[0m\u001b[0;34m.\u001b[0m\u001b[0m_parent_header\u001b[0m\u001b[0;34m,\u001b[0m\u001b[0;34m\u001b[0m\u001b[0;34m\u001b[0m\u001b[0m\n",
            "\u001b[0;32m/usr/local/lib/python3.10/dist-packages/ipykernel/kernelbase.py\u001b[0m in \u001b[0;36m_input_request\u001b[0;34m(self, prompt, ident, parent, password)\u001b[0m\n\u001b[1;32m    893\u001b[0m             \u001b[0;32mexcept\u001b[0m \u001b[0mKeyboardInterrupt\u001b[0m\u001b[0;34m:\u001b[0m\u001b[0;34m\u001b[0m\u001b[0;34m\u001b[0m\u001b[0m\n\u001b[1;32m    894\u001b[0m                 \u001b[0;31m# re-raise KeyboardInterrupt, to truncate traceback\u001b[0m\u001b[0;34m\u001b[0m\u001b[0;34m\u001b[0m\u001b[0m\n\u001b[0;32m--> 895\u001b[0;31m                 \u001b[0;32mraise\u001b[0m \u001b[0mKeyboardInterrupt\u001b[0m\u001b[0;34m(\u001b[0m\u001b[0;34m\"Interrupted by user\"\u001b[0m\u001b[0;34m)\u001b[0m \u001b[0;32mfrom\u001b[0m \u001b[0;32mNone\u001b[0m\u001b[0;34m\u001b[0m\u001b[0;34m\u001b[0m\u001b[0m\n\u001b[0m\u001b[1;32m    896\u001b[0m             \u001b[0;32mexcept\u001b[0m \u001b[0mException\u001b[0m \u001b[0;32mas\u001b[0m \u001b[0me\u001b[0m\u001b[0;34m:\u001b[0m\u001b[0;34m\u001b[0m\u001b[0;34m\u001b[0m\u001b[0m\n\u001b[1;32m    897\u001b[0m                 \u001b[0mself\u001b[0m\u001b[0;34m.\u001b[0m\u001b[0mlog\u001b[0m\u001b[0;34m.\u001b[0m\u001b[0mwarning\u001b[0m\u001b[0;34m(\u001b[0m\u001b[0;34m\"Invalid Message:\"\u001b[0m\u001b[0;34m,\u001b[0m \u001b[0mexc_info\u001b[0m\u001b[0;34m=\u001b[0m\u001b[0;32mTrue\u001b[0m\u001b[0;34m)\u001b[0m\u001b[0;34m\u001b[0m\u001b[0;34m\u001b[0m\u001b[0m\n",
            "\u001b[0;31mKeyboardInterrupt\u001b[0m: Interrupted by user"
          ]
        }
      ]
    }
  ]
}